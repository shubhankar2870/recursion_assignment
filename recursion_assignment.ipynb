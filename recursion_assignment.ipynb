{
  "nbformat": 4,
  "nbformat_minor": 0,
  "metadata": {
    "colab": {
      "provenance": []
    },
    "kernelspec": {
      "name": "python3",
      "display_name": "Python 3"
    },
    "language_info": {
      "name": "python"
    }
  },
  "cells": [
    {
      "cell_type": "code",
      "execution_count": 2,
      "metadata": {
        "colab": {
          "base_uri": "https://localhost:8080/"
        },
        "id": "MWvm2JfTTPw5",
        "outputId": "46aaf8c3-be1f-4f1a-c1b3-eaf972c16a2d"
      },
      "outputs": [
        {
          "output_type": "stream",
          "name": "stdout",
          "text": [
            "Move disc 1 from A to B\n",
            "move disc 2 from A to C\n",
            "Move disc 1 from B to C\n",
            "move disc 3 from A to B\n",
            "Move disc 1 from C to A\n",
            "move disc 2 from C to B\n",
            "Move disc 1 from A to B\n"
          ]
        }
      ],
      "source": [
        "#Q.1 Can you explain the logic and working of the Tower of Hanoi algorithm by writing a Java program?\n",
        "# How does the recursion work, and how are the movements of disks between rods accomplished?\n",
        "\n",
        "def tower_of_hanoi(source, destination, helper, n):\n",
        "  if n == 1:\n",
        "    print(f\"Move disc 1 from {source} to {destination}\")\n",
        "    return\n",
        "\n",
        "  tower_of_hanoi(source, helper, destination, n-1)\n",
        "  print(f\"move disc {n} from {source} to {destination}\")\n",
        "  tower_of_hanoi(helper, destination, source, n-1)\n",
        "\n",
        "\n",
        "tower_of_hanoi(\"A\", \"B\", \"C\", 3)"
      ]
    },
    {
      "cell_type": "code",
      "source": [
        "#Q.2 Given two strings word1 and word2, return the minimum number of operations required to convert word1 to word2.\n",
        "\n",
        "def edit_distance(word1, word2):\n",
        "    n = len(word1)\n",
        "    m = len(word2)\n",
        "\n",
        "    if n == 0 or m == 0:\n",
        "        return max(n, m)\n",
        "\n",
        "    if word1[n - 1] == word2[m - 1]:\n",
        "        cost = 0\n",
        "    else:\n",
        "        cost = 1\n",
        "\n",
        "    return min(edit_distance(word1[:n - 1], word2),\n",
        "               edit_distance(word1, word2[:m - 1]),\n",
        "               edit_distance(word1[:n - 1], word2[:m - 1]) + cost)\n",
        "\n",
        "\n",
        "result = edit_distance(\"transaction\", \"execution\")\n",
        "print(result)\n"
      ],
      "metadata": {
        "colab": {
          "base_uri": "https://localhost:8080/"
        },
        "id": "5SBRved6VWpR",
        "outputId": "1c955559-b573-41ce-c5fe-f8ecc9d8ee07"
      },
      "execution_count": 5,
      "outputs": [
        {
          "output_type": "stream",
          "name": "stdout",
          "text": [
            "1\n"
          ]
        }
      ]
    },
    {
      "cell_type": "code",
      "source": [
        "#Q. 3 Print the max value of the array [ 13, 1, -3, 22, 5].\n",
        "\n",
        "def find_max_value(arr, n):\n",
        "  if n == 1:\n",
        "    return arr[0]\n",
        "\n",
        "  else:\n",
        "    max_value = find_max_value(arr, n-1)\n",
        "    if arr[n-1] > max_value:\n",
        "      max_value = arr[n-1]\n",
        "    return max_value\n",
        "\n",
        "result = find_max_value([13, 1, -3, 22, 5], 5)\n",
        "print(result)"
      ],
      "metadata": {
        "colab": {
          "base_uri": "https://localhost:8080/"
        },
        "id": "tffEHIhpWRh_",
        "outputId": "6b0d8654-9f45-4cc7-90b0-032797364601"
      },
      "execution_count": 7,
      "outputs": [
        {
          "output_type": "stream",
          "name": "stdout",
          "text": [
            "22\n"
          ]
        }
      ]
    },
    {
      "cell_type": "code",
      "source": [
        "#Q.4 Find the sum of the values of the array [92, 23, 15, -20, 10].\n",
        "\n",
        "def find_sum(arr, n):\n",
        "  if n == 1:\n",
        "    return arr[0]\n",
        "  else:\n",
        "    return arr[n-1] + find_sum(arr, n-1)\n",
        "\n",
        "result = find_sum([92, 23, 15, -20, 10], 5)\n",
        "print(result)\n"
      ],
      "metadata": {
        "colab": {
          "base_uri": "https://localhost:8080/"
        },
        "id": "J1LCE0C1Xo9Y",
        "outputId": "893b3e94-23fc-416e-bc29-5d8555ebebed"
      },
      "execution_count": 11,
      "outputs": [
        {
          "output_type": "stream",
          "name": "stdout",
          "text": [
            "120\n"
          ]
        }
      ]
    },
    {
      "cell_type": "code",
      "source": [
        "#Q.5 Given a number n. Print if it is an armstrong number or not.An armstrong number is a number if the sum\n",
        "# of every digit in that number raised to the power of total digits in that number is equal to the number.\n",
        "\n",
        "def is_armstrong_number(n, num_length):\n",
        "    if n == 0:\n",
        "        return True\n",
        "\n",
        "    digit = n % 10\n",
        "    sum = digit ** num_length\n",
        "\n",
        "    return sum + is_armstrong_number(n // 10, num_length)\n",
        "\n",
        "num = 153\n",
        "len = len(str(num))\n",
        "result = is_armstrong_number(num, len)\n",
        "if result:\n",
        "  print(f\"{num} is an armstrong number\")\n",
        "else:\n",
        "  print(f\"{num} is not an armstrong nunber\")"
      ],
      "metadata": {
        "colab": {
          "base_uri": "https://localhost:8080/"
        },
        "id": "cDcGFBwwciS7",
        "outputId": "49262c24-3dc7-4d30-b3f6-9f065b2c1f29"
      },
      "execution_count": 6,
      "outputs": [
        {
          "output_type": "stream",
          "name": "stdout",
          "text": [
            "153 is an armstrong number\n"
          ]
        }
      ]
    }
  ]
}